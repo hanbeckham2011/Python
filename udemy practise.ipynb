{
 "cells": [
  {
   "cell_type": "code",
   "execution_count": 1,
   "id": "42f5e07f",
   "metadata": {},
   "outputs": [],
   "source": [
    "def Ast(s1,s2):\n",
    "    s1=s1.replace(' ','').lower()\n",
    "    s2=s2.replace(' ','').lower()\n",
    "    if len(s1) != len(s2):\n",
    "        return False\n",
    "    \n",
    "    count={}\n",
    "    for letter in s1:\n",
    "        \n",
    "        if letter in count:\n",
    "            count[letter]+=1\n",
    "        else:\n",
    "            count[letter]=1\n",
    "    \n",
    "                \n",
    "    for letter in s2:\n",
    "\n",
    "        if letter in count:\n",
    "            count[letter]-=1\n",
    "        else:\n",
    "            count[letter]=1\n",
    "\n",
    "        \n",
    "    for k in count:\n",
    "        if count[k] !=0:\n",
    "            return False\n",
    "      \n",
    "    return True\n",
    "       "
   ]
  },
  {
   "cell_type": "code",
   "execution_count": 2,
   "id": "f22264a6",
   "metadata": {},
   "outputs": [
    {
     "data": {
      "text/plain": [
       "True"
      ]
     },
     "execution_count": 2,
     "metadata": {},
     "output_type": "execute_result"
    }
   ],
   "source": [
    "Ast('clint eastwood','old west action')"
   ]
  },
  {
   "cell_type": "code",
   "execution_count": 30,
   "id": "e9fc7842",
   "metadata": {},
   "outputs": [],
   "source": [
    "def pair_sum(arr,k):\n",
    "    if len(arr)<2:\n",
    "        return \n",
    "    seen=set()\n",
    "    output=set()\n",
    "    for num in arr:\n",
    "        target=k-num\n",
    "        if target not in seen:\n",
    "            seen.add(num)\n",
    "        else:\n",
    "            output.add((num,target))\n",
    "            \n",
    "    return len(output)          "
   ]
  },
  {
   "cell_type": "code",
   "execution_count": 32,
   "id": "10700e87",
   "metadata": {},
   "outputs": [
    {
     "data": {
      "text/plain": [
       "6"
      ]
     },
     "execution_count": 32,
     "metadata": {},
     "output_type": "execute_result"
    }
   ],
   "source": [
    "pair_sum([1,9,2,8,3,7,4,6,5,5,13,14,11,13,-1],10)"
   ]
  },
  {
   "cell_type": "code",
   "execution_count": 42,
   "id": "7b0a7248",
   "metadata": {},
   "outputs": [],
   "source": [
    "def finder(arr1,arr2):\n",
    "    if len(arr1)!=len(arr2)+1:\n",
    "        return\n",
    "    result=0\n",
    "    for num in arr1+arr2:\n",
    "        result^=num\n",
    "    return result\n",
    "        "
   ]
  },
  {
   "cell_type": "code",
   "execution_count": 43,
   "id": "bd73e844",
   "metadata": {},
   "outputs": [
    {
     "data": {
      "text/plain": [
       "5"
      ]
     },
     "execution_count": 43,
     "metadata": {},
     "output_type": "execute_result"
    }
   ],
   "source": [
    "finder([1,2,3,4,5,6,7],[3,7,2,1,4,6])"
   ]
  },
  {
   "cell_type": "code",
   "execution_count": 48,
   "id": "e5338f84",
   "metadata": {},
   "outputs": [],
   "source": [
    "def large_cont_sum(arr): \n",
    "    sum=0\n",
    "    l=[]\n",
    "    for i in range(len(arr)):\n",
    "        sum+=arr[i]\n",
    "        l.append(sum)\n",
    "    return max(l)"
   ]
  },
  {
   "cell_type": "code",
   "execution_count": 51,
   "id": "951772b1",
   "metadata": {},
   "outputs": [
    {
     "data": {
      "text/plain": [
       "1"
      ]
     },
     "execution_count": 51,
     "metadata": {},
     "output_type": "execute_result"
    }
   ],
   "source": [
    "large_cont_sum([1,-1])"
   ]
  },
  {
   "cell_type": "code",
   "execution_count": 58,
   "id": "86162653",
   "metadata": {},
   "outputs": [],
   "source": [
    "def rev_word(s):\n",
    "    rev=' '.join(s.split()[::-1])\n",
    "    return rev"
   ]
  },
  {
   "cell_type": "code",
   "execution_count": 59,
   "id": "41527f4a",
   "metadata": {},
   "outputs": [
    {
     "data": {
      "text/plain": [
       "'go? to ready you are John, Hi'"
      ]
     },
     "execution_count": 59,
     "metadata": {},
     "output_type": "execute_result"
    }
   ],
   "source": [
    "rev_word('Hi John,   are you ready to go?')"
   ]
  },
  {
   "cell_type": "code",
   "execution_count": 96,
   "id": "64a3afb3",
   "metadata": {},
   "outputs": [],
   "source": [
    "def compress(s):\n",
    "    a=''\n",
    "    for x in s:\n",
    "        c=s.count(x)\n",
    "        y=x+str(c)\n",
    "        if y not in a:\n",
    "            a=a+y\n",
    "    return a "
   ]
  },
  {
   "cell_type": "code",
   "execution_count": 101,
   "id": "cc25468b",
   "metadata": {},
   "outputs": [
    {
     "data": {
      "text/plain": [
       "'a3A2'"
      ]
     },
     "execution_count": 101,
     "metadata": {},
     "output_type": "execute_result"
    }
   ],
   "source": [
    "compress('aaaAA')"
   ]
  },
  {
   "cell_type": "code",
   "execution_count": 107,
   "id": "7f053562",
   "metadata": {},
   "outputs": [],
   "source": [
    "def uni_char(s):\n",
    "    a=''\n",
    "    for x in s:\n",
    "        c=s.count(x)\n",
    "        if c!=1:\n",
    "            return False\n",
    "        else:\n",
    "            continue\n",
    "    return True        "
   ]
  },
  {
   "cell_type": "code",
   "execution_count": 110,
   "id": "0c133c08",
   "metadata": {},
   "outputs": [
    {
     "data": {
      "text/plain": [
       "True"
      ]
     },
     "execution_count": 110,
     "metadata": {},
     "output_type": "execute_result"
    }
   ],
   "source": [
    "uni_char('')"
   ]
  },
  {
   "cell_type": "code",
   "execution_count": 4,
   "id": "b44972ad",
   "metadata": {},
   "outputs": [],
   "source": [
    "class Deque:\n",
    "    def __init__(self):\n",
    "        self.items = []\n",
    "\n",
    "    def isEmpty(self):\n",
    "        return self.items == []\n",
    "\n",
    "    def addFront(self, item):\n",
    "        self.items.append(item)\n",
    "\n",
    "    def addRear(self, item):\n",
    "        self.items.insert(0,item)\n",
    "\n",
    "    def removeFront(self):\n",
    "        return self.items.pop()\n",
    "\n",
    "    def removeRear(self):\n",
    "        return self.items.pop(0)\n",
    "\n",
    "    def size(self):\n",
    "        return len(self.items)"
   ]
  },
  {
   "cell_type": "code",
   "execution_count": 5,
   "id": "948d1758",
   "metadata": {},
   "outputs": [
    {
     "data": {
      "text/plain": [
       "<__main__.Deque at 0x1ba22a8c5c0>"
      ]
     },
     "execution_count": 5,
     "metadata": {},
     "output_type": "execute_result"
    }
   ],
   "source": [
    "d = Deque()\n",
    "d.addFront('hello')\n",
    "d.addFront('hello2')\n",
    "d.addFront('hello3')\n",
    "d.addRear('world')\n",
    "d"
   ]
  },
  {
   "cell_type": "code",
   "execution_count": 6,
   "id": "fc75131f",
   "metadata": {},
   "outputs": [
    {
     "data": {
      "text/plain": [
       "'world'"
      ]
     },
     "execution_count": 6,
     "metadata": {},
     "output_type": "execute_result"
    }
   ],
   "source": [
    "d.removeRear()"
   ]
  },
  {
   "cell_type": "code",
   "execution_count": 7,
   "id": "0e70b1da",
   "metadata": {},
   "outputs": [],
   "source": [
    "d.addRear('last')"
   ]
  },
  {
   "cell_type": "code",
   "execution_count": 9,
   "id": "becc4c22",
   "metadata": {},
   "outputs": [
    {
     "data": {
      "text/plain": [
       "['last', 'hello', 'hello2', 'hello3']"
      ]
     },
     "execution_count": 9,
     "metadata": {},
     "output_type": "execute_result"
    }
   ],
   "source": [
    "d.items"
   ]
  },
  {
   "cell_type": "code",
   "execution_count": 10,
   "id": "26b76a92",
   "metadata": {},
   "outputs": [
    {
     "data": {
      "text/plain": [
       "['last', 'hello', 'hello2', 'hello3', 'First']"
      ]
     },
     "execution_count": 10,
     "metadata": {},
     "output_type": "execute_result"
    }
   ],
   "source": [
    "d.addFront('First')\n",
    "d.items"
   ]
  },
  {
   "cell_type": "code",
   "execution_count": 3,
   "id": "40c84d7a",
   "metadata": {},
   "outputs": [
    {
     "data": {
      "text/plain": [
       "['o', 'a', 'e', 'i', 'u']"
      ]
     },
     "execution_count": 3,
     "metadata": {},
     "output_type": "execute_result"
    }
   ],
   "source": [
    "r=['a','e','i','u']\n",
    "r.insert(0,'o')\n",
    "r"
   ]
  },
  {
   "cell_type": "code",
   "execution_count": 11,
   "id": "adcc9cf6",
   "metadata": {},
   "outputs": [],
   "source": [
    "def rec_sum(n):\n",
    "    if n==0:\n",
    "        return n\n",
    "    else:\n",
    "        return n + rec_sum(n-1)"
   ]
  },
  {
   "cell_type": "code",
   "execution_count": 15,
   "id": "3bae0514",
   "metadata": {},
   "outputs": [
    {
     "data": {
      "text/plain": [
       "5050"
      ]
     },
     "execution_count": 15,
     "metadata": {},
     "output_type": "execute_result"
    }
   ],
   "source": [
    "rec_sum(100)"
   ]
  },
  {
   "cell_type": "code",
   "execution_count": 20,
   "id": "5fb627f0",
   "metadata": {},
   "outputs": [],
   "source": [
    "def sum_func(n):\n",
    "    if len(str(n))==1:\n",
    "        return n\n",
    "    else:\n",
    "        return n%10+sum_func(n//10)"
   ]
  },
  {
   "cell_type": "code",
   "execution_count": 21,
   "id": "c4d1c38b",
   "metadata": {},
   "outputs": [
    {
     "data": {
      "text/plain": [
       "10"
      ]
     },
     "execution_count": 21,
     "metadata": {},
     "output_type": "execute_result"
    }
   ],
   "source": [
    "sum_func(4321)"
   ]
  },
  {
   "cell_type": "code",
   "execution_count": 1,
   "id": "d1c475c6",
   "metadata": {},
   "outputs": [
    {
     "ename": "SyntaxError",
     "evalue": "unexpected EOF while parsing (Temp/ipykernel_10888/2115598879.py, line 3)",
     "output_type": "error",
     "traceback": [
      "\u001b[1;36m  File \u001b[1;32m\"C:\\Users\\ADMINI~1\\AppData\\Local\\Temp/ipykernel_10888/2115598879.py\"\u001b[1;36m, line \u001b[1;32m3\u001b[0m\n\u001b[1;33m    \u001b[0m\n\u001b[1;37m    ^\u001b[0m\n\u001b[1;31mSyntaxError\u001b[0m\u001b[1;31m:\u001b[0m unexpected EOF while parsing\n"
     ]
    }
   ],
   "source": [
    "def word_split(phrase,list_of_words, output = None):\n",
    "    \n",
    "    "
   ]
  },
  {
   "cell_type": "code",
   "execution_count": 33,
   "id": "0a2e1a69",
   "metadata": {},
   "outputs": [],
   "source": [
    "def permute(s):\n",
    "    out = []\n",
    "    \n",
    "    # Base Case\n",
    "    if len(s) == 1:\n",
    "        out = [s]\n",
    "        \n",
    "    else:\n",
    "        # For every letter in string\n",
    "        for i, let in enumerate(s):\n",
    "            print('i-let is: ', i ,'-',let, 'length of s is:', len(s))\n",
    "            print('s is: ',s)\n",
    "            print('*********')\n",
    "            # For every permutation resulting from Step 2 and 3 described above\n",
    "            for perm in permute(s[:i] + s[i+1:]):\n",
    "                print('let is:',let,' , perm is: ', perm, ', i is:', i, ', s is :', s[:i],'+',s[i+1:])\n",
    "                print('------')\n",
    "                # Add it to output\n",
    "                out += [let + perm]\n",
    "\n",
    "    return out"
   ]
  },
  {
   "cell_type": "code",
   "execution_count": 34,
   "id": "1a6a08c3",
   "metadata": {},
   "outputs": [
    {
     "name": "stdout",
     "output_type": "stream",
     "text": [
      "i-let is:  0 - a length of s is: 3\n",
      "s is:  abc\n",
      "*********\n",
      "i-let is:  0 - b length of s is: 2\n",
      "s is:  bc\n",
      "*********\n",
      "let is: b  , perm is:  c , i is: 0 , s is :  + c\n",
      "------\n",
      "i-let is:  1 - c length of s is: 2\n",
      "s is:  bc\n",
      "*********\n",
      "let is: c  , perm is:  b , i is: 1 , s is : b + \n",
      "------\n",
      "let is: a  , perm is:  bc , i is: 0 , s is :  + bc\n",
      "------\n",
      "let is: a  , perm is:  cb , i is: 0 , s is :  + bc\n",
      "------\n",
      "i-let is:  1 - b length of s is: 3\n",
      "s is:  abc\n",
      "*********\n",
      "i-let is:  0 - a length of s is: 2\n",
      "s is:  ac\n",
      "*********\n",
      "let is: a  , perm is:  c , i is: 0 , s is :  + c\n",
      "------\n",
      "i-let is:  1 - c length of s is: 2\n",
      "s is:  ac\n",
      "*********\n",
      "let is: c  , perm is:  a , i is: 1 , s is : a + \n",
      "------\n",
      "let is: b  , perm is:  ac , i is: 1 , s is : a + c\n",
      "------\n",
      "let is: b  , perm is:  ca , i is: 1 , s is : a + c\n",
      "------\n",
      "i-let is:  2 - c length of s is: 3\n",
      "s is:  abc\n",
      "*********\n",
      "i-let is:  0 - a length of s is: 2\n",
      "s is:  ab\n",
      "*********\n",
      "let is: a  , perm is:  b , i is: 0 , s is :  + b\n",
      "------\n",
      "i-let is:  1 - b length of s is: 2\n",
      "s is:  ab\n",
      "*********\n",
      "let is: b  , perm is:  a , i is: 1 , s is : a + \n",
      "------\n",
      "let is: c  , perm is:  ab , i is: 2 , s is : ab + \n",
      "------\n",
      "let is: c  , perm is:  ba , i is: 2 , s is : ab + \n",
      "------\n"
     ]
    },
    {
     "data": {
      "text/plain": [
       "['abc', 'acb', 'bac', 'bca', 'cab', 'cba']"
      ]
     },
     "execution_count": 34,
     "metadata": {},
     "output_type": "execute_result"
    }
   ],
   "source": [
    "permute('abc')"
   ]
  },
  {
   "cell_type": "code",
   "execution_count": 35,
   "id": "5c327b39",
   "metadata": {},
   "outputs": [
    {
     "name": "stdout",
     "output_type": "stream",
     "text": [
      "0\n",
      "a\n",
      "1\n",
      "b\n",
      "2\n",
      "c\n",
      "3\n",
      "d\n"
     ]
    }
   ],
   "source": [
    "s='abcd'\n",
    "for i,x in enumerate(s):\n",
    "    print(i)\n",
    "    print(x)"
   ]
  },
  {
   "cell_type": "code",
   "execution_count": null,
   "id": "114166e0",
   "metadata": {},
   "outputs": [],
   "source": []
  }
 ],
 "metadata": {
  "kernelspec": {
   "display_name": "Python 3",
   "language": "python",
   "name": "python3"
  },
  "language_info": {
   "codemirror_mode": {
    "name": "ipython",
    "version": 3
   },
   "file_extension": ".py",
   "mimetype": "text/x-python",
   "name": "python",
   "nbconvert_exporter": "python",
   "pygments_lexer": "ipython3",
   "version": "3.8.8"
  }
 },
 "nbformat": 4,
 "nbformat_minor": 5
}
