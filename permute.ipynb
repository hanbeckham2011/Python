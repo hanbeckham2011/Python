{
 "cells": [
  {
   "cell_type": "code",
   "execution_count": 33,
   "id": "88cf3912",
   "metadata": {},
   "outputs": [],
   "source": [
    "def permute(s):\n",
    "    out = []\n",
    "    \n",
    "    # Base Case\n",
    "    if len(s) == 1:\n",
    "        out = [s]\n",
    "        \n",
    "    else:\n",
    "        # For every letter in string\n",
    "        for i, let in enumerate(s):\n",
    "            print('i is:', i,',letter is:', let, ',s[1] is :',s[:i],',s[2] is :', s[i+1:], ',s is:', s)\n",
    "            # For every permutation resulting from Step 2 and 3 described above\n",
    "            for perm in permute(s[:i] + s[i+1:]):\n",
    "                print('letter is:', let,'perm is:',perm, 's[1] is :',s[:i],',s[2] is :', s[i+1:], ',s is:', s)\n",
    "                # Add it to output\n",
    "                out += [let + perm]\n",
    "                print('output is:', out)\n",
    "\n",
    "    return out"
   ]
  },
  {
   "cell_type": "code",
   "execution_count": 34,
   "id": "891e7ae8",
   "metadata": {},
   "outputs": [
    {
     "name": "stdout",
     "output_type": "stream",
     "text": [
      "i is: 0 ,letter is: a ,s[1] is :  ,s[2] is : bc ,s is: abc\n",
      "i is: 0 ,letter is: b ,s[1] is :  ,s[2] is : c ,s is: bc\n",
      "letter is: b perm is: c s[1] is :  ,s[2] is : c ,s is: bc\n",
      "output is: ['bc']\n",
      "i is: 1 ,letter is: c ,s[1] is : b ,s[2] is :  ,s is: bc\n",
      "letter is: c perm is: b s[1] is : b ,s[2] is :  ,s is: bc\n",
      "output is: ['bc', 'cb']\n",
      "letter is: a perm is: bc s[1] is :  ,s[2] is : bc ,s is: abc\n",
      "output is: ['abc']\n",
      "letter is: a perm is: cb s[1] is :  ,s[2] is : bc ,s is: abc\n",
      "output is: ['abc', 'acb']\n",
      "i is: 1 ,letter is: b ,s[1] is : a ,s[2] is : c ,s is: abc\n",
      "i is: 0 ,letter is: a ,s[1] is :  ,s[2] is : c ,s is: ac\n",
      "letter is: a perm is: c s[1] is :  ,s[2] is : c ,s is: ac\n",
      "output is: ['ac']\n",
      "i is: 1 ,letter is: c ,s[1] is : a ,s[2] is :  ,s is: ac\n",
      "letter is: c perm is: a s[1] is : a ,s[2] is :  ,s is: ac\n",
      "output is: ['ac', 'ca']\n",
      "letter is: b perm is: ac s[1] is : a ,s[2] is : c ,s is: abc\n",
      "output is: ['abc', 'acb', 'bac']\n",
      "letter is: b perm is: ca s[1] is : a ,s[2] is : c ,s is: abc\n",
      "output is: ['abc', 'acb', 'bac', 'bca']\n",
      "i is: 2 ,letter is: c ,s[1] is : ab ,s[2] is :  ,s is: abc\n",
      "i is: 0 ,letter is: a ,s[1] is :  ,s[2] is : b ,s is: ab\n",
      "letter is: a perm is: b s[1] is :  ,s[2] is : b ,s is: ab\n",
      "output is: ['ab']\n",
      "i is: 1 ,letter is: b ,s[1] is : a ,s[2] is :  ,s is: ab\n",
      "letter is: b perm is: a s[1] is : a ,s[2] is :  ,s is: ab\n",
      "output is: ['ab', 'ba']\n",
      "letter is: c perm is: ab s[1] is : ab ,s[2] is :  ,s is: abc\n",
      "output is: ['abc', 'acb', 'bac', 'bca', 'cab']\n",
      "letter is: c perm is: ba s[1] is : ab ,s[2] is :  ,s is: abc\n",
      "output is: ['abc', 'acb', 'bac', 'bca', 'cab', 'cba']\n"
     ]
    },
    {
     "data": {
      "text/plain": [
       "['abc', 'acb', 'bac', 'bca', 'cab', 'cba']"
      ]
     },
     "execution_count": 34,
     "metadata": {},
     "output_type": "execute_result"
    }
   ],
   "source": [
    "permute('abc')"
   ]
  },
  {
   "cell_type": "code",
   "execution_count": 35,
   "id": "9bdf573d",
   "metadata": {},
   "outputs": [
    {
     "name": "stdout",
     "output_type": "stream",
     "text": [
      "i is: 0 ,letter is: a ,s[1] is :  ,s[2] is : bc ,s is: abc\n",
      "i is: 1 ,letter is: b ,s[1] is : a ,s[2] is : c ,s is: abc\n",
      "i is: 2 ,letter is: c ,s[1] is : ab ,s[2] is :  ,s is: abc\n"
     ]
    }
   ],
   "source": [
    "s='abc'\n",
    "for i, let in enumerate(s):\n",
    "    print('i is:', i,',letter is:', let, ',s[1] is :',s[:i],',s[2] is :', s[i+1:], ',s is:', s)"
   ]
  },
  {
   "cell_type": "code",
   "execution_count": 36,
   "id": "a1896e29",
   "metadata": {},
   "outputs": [],
   "source": [
    "def permute(s):\n",
    "    out = []    \n",
    "    # Base Case\n",
    "    if len(s) == 1:\n",
    "        out = [s]        \n",
    "    else:\n",
    "        # For every letter in string\n",
    "        for i, let in enumerate(s):            \n",
    "            # For every permutation resulting from Step 2 and 3 described above\n",
    "            for perm in permute(s[:i] + s[i+1:]):                \n",
    "                # Add it to output\n",
    "                out += [let + perm]\n",
    "    return out"
   ]
  },
  {
   "cell_type": "code",
   "execution_count": 38,
   "id": "9e8a4a02",
   "metadata": {},
   "outputs": [
    {
     "data": {
      "text/plain": [
       "3"
      ]
     },
     "execution_count": 38,
     "metadata": {},
     "output_type": "execute_result"
    }
   ],
   "source": [
    "7//2"
   ]
  },
  {
   "cell_type": "code",
   "execution_count": null,
   "id": "77fb412c",
   "metadata": {},
   "outputs": [],
   "source": []
  }
 ],
 "metadata": {
  "kernelspec": {
   "display_name": "Python 3 (ipykernel)",
   "language": "python",
   "name": "python3"
  },
  "language_info": {
   "codemirror_mode": {
    "name": "ipython",
    "version": 3
   },
   "file_extension": ".py",
   "mimetype": "text/x-python",
   "name": "python",
   "nbconvert_exporter": "python",
   "pygments_lexer": "ipython3",
   "version": "3.7.1"
  }
 },
 "nbformat": 4,
 "nbformat_minor": 5
}
